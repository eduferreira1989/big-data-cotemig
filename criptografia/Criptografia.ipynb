{
 "cells": [
  {
   "cell_type": "markdown",
   "metadata": {},
   "source": [
    "# Criptografia\n",
    "\n",
    "\n",
    "## Overview\n",
    "\n",
    "Nesta tarefa, você construirá dois sistemas criptográficos diferentes - cifra de César e cifra de Vigenere. Este material irá guiá-lo através dos detalhes da construção destes sistemas de criptografia baseada em texto. Queremos estimular boas práticas de Python desde o começo - então nós encorajamos você a pensar criticamente sobre como escrever código Python limpo.\n",
    "\n",
    "## Criando as Cifras\n",
    "\n",
    "Nesta seção, você criará funções de criptografia para criptografar e descriptografar mensagens. Vamos dar uma breve visão geral de cada código.\n",
    "\n",
    "### Cifra de César\n",
    "\n",
    "Uma cifra de César envolve a mudança de cada caractere em um texto simples por três letras adiante:\n",
    "\n",
    "```\n",
    "A -> D, B -> E, C -> F, etc... \n",
    "```\n",
    "\n",
    "No final do alfabeto, o mapeamento de cifra volta ao início, portanto:\n",
    "\n",
    "```\n",
    "..., X -> A, Y -> B, Z -> C.\n",
    "```\n",
    "\n",
    "Por exemplo, criptografar `'PYTHON'` usando uma cifra de Caesar dá\n",
    " \n",
    "```\n",
    "PYTHON\n",
    "||||||\n",
    "SBWKRQ\n",
    "```\n",
    "\n",
    "Nesta parte, implemente as funções:\n",
    "\n",
    "```Python\n",
    "encrypt_caesar(plaintext)\n",
    "decrypt_caesar(ciphertext)\n",
    "```\n",
    "\n",
    "Cada uma dessas funções leva um argumento, uma cadeia representando uma mensagem a ser criptografada ou descriptografada, e retorna uma cadeia representando a mensagem criptografada ou descriptografada.\n",
    "\n",
    "Notas:\n",
    "\n",
    "- Caracteres não alfabéticos não devem ser modificados.\n",
    "- Você pode assumir que todos os caracteres alfabéticos estarão em maiúsculas.\n",
    "- Não assuma que os argumentos para essa função sempre tenham pelo menos um caractere.\n",
    "\n",
    "Isto é, `encrypt_caesar (\" \")` deve retornar `\" \"` (a string vazia) e `encrypt_caesar (\"F1RST P0ST\")` deve retornar `\"I1UVW S0VW\"`.\n"
   ]
  },
  {
   "cell_type": "code",
   "execution_count": 64,
   "metadata": {},
   "outputs": [
    {
     "name": "stdout",
     "output_type": "stream",
     "text": [
      "HGXDUGR OXLC 123\n",
      "EDUARDO LUIZ 123\n"
     ]
    }
   ],
   "source": [
    "import string\n",
    "list_default = list(string.ascii_uppercase)\n",
    "list_encripted = list_default[3:] + list_default[:3]\n",
    "\n",
    "def encrypt_caesar(plaintext):\n",
    "    \"\"\"Encrypt a plaintext using a Caesar cipher.\"\"\"\n",
    "    \n",
    "    ciphertext = \"\"\n",
    "    \n",
    "    for c in plaintext:\n",
    "        if c in list_default:\n",
    "            ciphertext += list_encripted[list_default.index(c)]\n",
    "        else:\n",
    "            ciphertext += c                    \n",
    "            \n",
    "    return ciphertext\n",
    "\n",
    "def decrypt_caesar(ciphertext):\n",
    "    \"\"\"Decrypt a ciphertext using a Caesar cipher.\"\"\"\n",
    "                                          \n",
    "    plaintext = \"\"\n",
    "    \n",
    "    for c in ciphertext:\n",
    "        if c in list_encripted:\n",
    "            plaintext += list_default[list_encripted.index(c)]\n",
    "        else:\n",
    "            plaintext += c    \n",
    "            \n",
    "    return plaintext\n",
    "\n",
    "print(encrypt_caesar(\"EDUARDO LUIZ 123\"))\n",
    "print(decrypt_caesar(encrypt_caesar(\"EDUARDO LUIZ 123\")))"
   ]
  },
  {
   "cell_type": "code",
   "execution_count": 65,
   "metadata": {},
   "outputs": [
    {
     "data": {
      "text/plain": [
       "True"
      ]
     },
     "execution_count": 65,
     "metadata": {},
     "output_type": "execute_result"
    }
   ],
   "source": [
    "all([\n",
    "  encrypt_caesar('A') == 'D',\n",
    "  encrypt_caesar('B') == 'E',\n",
    "  encrypt_caesar('I') == 'L',\n",
    "  encrypt_caesar('X') == 'A',\n",
    "  encrypt_caesar('Z') == 'C',\n",
    "  encrypt_caesar('AA') == 'DD',\n",
    "  encrypt_caesar('TH') == 'WK',\n",
    "  encrypt_caesar('CAT') == 'FDW',\n",
    "  encrypt_caesar('DOG') == 'GRJ',\n",
    "  encrypt_caesar('TOO') == 'WRR',\n",
    "  encrypt_caesar('DAMN') == 'GDPQ',\n",
    "  encrypt_caesar('DANIEL') == 'GDQLHO',\n",
    "  encrypt_caesar('PYTHON') == 'SBWKRQ',\n",
    "  encrypt_caesar('WHEEEEEE') == 'ZKHHHHHH',\n",
    "  encrypt_caesar('WITH SPACE') == 'ZLWK VSDFH',\n",
    "  encrypt_caesar('WITH TWO SPACES') == 'ZLWK WZR VSDFHV',\n",
    "  encrypt_caesar('NUM83R5') == 'QXP83U5',\n",
    "  encrypt_caesar('0DD !T$') == '0GG !W$',\n",
    "])"
   ]
  },
  {
   "cell_type": "code",
   "execution_count": 66,
   "metadata": {},
   "outputs": [
    {
     "data": {
      "text/plain": [
       "True"
      ]
     },
     "execution_count": 66,
     "metadata": {},
     "output_type": "execute_result"
    }
   ],
   "source": [
    "all([\n",
    "  decrypt_caesar('D') == 'A',\n",
    "  decrypt_caesar('E') == 'B',\n",
    "  decrypt_caesar('L') == 'I',\n",
    "  decrypt_caesar('A') == 'X',\n",
    "  decrypt_caesar('C') == 'Z',\n",
    "  decrypt_caesar('DD') == 'AA',\n",
    "  decrypt_caesar('WK') == 'TH',\n",
    "  decrypt_caesar('FDW') == 'CAT',\n",
    "  decrypt_caesar('GRJ') == 'DOG',\n",
    "  decrypt_caesar('WRR') == 'TOO',\n",
    "  decrypt_caesar('GDPQ') == 'DAMN',\n",
    "  decrypt_caesar('GDQLHO') == 'DANIEL',\n",
    "  decrypt_caesar('SBWKRQ') == 'PYTHON',\n",
    "  decrypt_caesar('ZKHHHHHH') == 'WHEEEEEE',\n",
    "  decrypt_caesar('ZLWK VSDFH') == 'WITH SPACE',\n",
    "  decrypt_caesar('ZLWK WZR VSDFHV') == 'WITH TWO SPACES',\n",
    "  decrypt_caesar('QXP83U5') == 'NUM83R5',\n",
    "  decrypt_caesar('0GG !W$') == '0DD !T$',\n",
    "])"
   ]
  },
  {
   "cell_type": "markdown",
   "metadata": {},
   "source": [
    "### Cifra de Vigenere\n",
    "\n",
    "Uma cifra de Vigenere é semelhante em natureza a uma cifra de César. No entanto, em uma cifra de Vigenere, cada caractere no texto simples pode ser alterado por uma quantidade variável. A quantidade para mudar qualquer letra no texto plano é determinada por uma palavra-chave, onde 'A' corresponde ao deslocamento de 0 (sem deslocamento), 'B' corresponde a um deslocamento de 1, ... e 'Z' corresponde a um deslocamento de 25, voltando ao início se necessário (como com a cifra de César).\n",
    "\n",
    "A palavra-chave é repetida ou truncada conforme necessário para ajustar o tamanho do texto simples. Como exemplo, criptografar `\" ATTACKATDAWN \"` com a chave `\" LEMON \"` fornece:\n",
    "\n",
    "\n",
    "```\n",
    "Plaintext:      ATTACKATDAWN\n",
    "Key:            LEMONLEMONLE\n",
    "Ciphertext:     LXFOPVEFRNHR\n",
    "```\n",
    "\n",
    "Olhando mais de perto, cada letra no texto cifrado é a soma das letras no texto simples e na chave. Assim, o primeiro caractere do texto cifrado é `\"L\"` devido aos seguintes cálculos:\n",
    "\n",
    "```\n",
    "A + L = 0 + 11 = 11 -> L\n",
    "```\n",
    "\n",
    "O segundo caractere do texto cifrado é `\"X\"` porque mudando `\"T\"` por 4 (associado ao deslocamento por `\"E\"`) fornece:\n",
    "\n",
    "```\n",
    "T + E = 19 + 4 = 23 -> X\n",
    "```\n",
    "\n",
    "Note que, uma vez que estamos considerando A para codificar 0, nossos índices são a posição ordinal de uma letra no alfabeto. Isto é, mesmo que E seja a 5ª letra do alfabeto, ela codifica um deslocamento de 4.\n",
    "\n",
    "O terceiro caractere do texto cifrado é `\"F\"` porque:\n",
    "\n",
    "```\n",
    "T + M = 19 + 12 = 31 -> 5 -> F\n",
    "```\n",
    "\n",
    "Nós contornamos o alfabeto de +31 a +5, resultando em um caractere de texto cifrado de saída de `\"F\"`.\n",
    "\n",
    "Implemente as funções:\n",
    "\n",
    "```Python\n",
    "encrypt_vigenere(plaintext, keyword)\n",
    "decrypt_vigenere(ciphertext, keyword)\n",
    "```\n",
    "\n",
    "Essas funções levam dois argumentos, uma mensagem para criptografar (ou descriptografar) e uma palavra-chave para criptografia ou descriptografia. Ambas as funções devem retornar a mensagem criptografada (ou descriptografada).\n",
    "\n",
    "Notas:\n",
    "\n",
    "- Você pode assumir que todos os caracteres no texto simples, no texto cifrado e na palavra-chave serão alfabéticos (ou seja, sem espaços, números ou pontuação).\n",
    "- Você pode assumir que todos os caracteres serão fornecidos em letras maiúsculas.\n",
    "- Você pode assumir que a palavra-chave terá pelo menos uma letra nela."
   ]
  },
  {
   "cell_type": "code",
   "execution_count": 101,
   "metadata": {},
   "outputs": [
    {
     "name": "stdout",
     "output_type": "stream",
     "text": [
      "EEUBREO LVIA 123\n",
      "EDUARDO LUIZ 123\n"
     ]
    }
   ],
   "source": [
    "def encrypt_vigenere(plaintext, keyword):\n",
    "    \"\"\"Encrypt plaintext using a Vigenere cipher with a keyword.\"\"\"\n",
    "    \n",
    "    keyword_len = len(keyword)\n",
    "    ciphertext = \"\"\n",
    "    \n",
    "    for i in range(keyword_len, len(plaintext)):\n",
    "        keyword += keyword[i % keyword_len]                \n",
    "    \n",
    "    for c, k in zip(plaintext, keyword):\n",
    "        if c in list_default:\n",
    "            position = (list_default.index(c) + list_default.index(k)) % 26\n",
    "            ciphertext += list_default[position]\n",
    "        else:\n",
    "            ciphertext += c                    \n",
    "            \n",
    "    return ciphertext\n",
    "\n",
    "\n",
    "def decrypt_vigenere(ciphertext, keyword):\n",
    "    \"\"\"Decrypt ciphertext using a Vigenere cipher with a keyword.\"\"\"\n",
    "    \n",
    "    keyword_len = len(keyword)\n",
    "    plaintext = \"\"\n",
    "    \n",
    "    for i in range(keyword_len, len(ciphertext)):\n",
    "        keyword += keyword[i % keyword_len]                \n",
    "    \n",
    "    for c, k in zip(ciphertext, keyword):\n",
    "        if c in list_default:\n",
    "            if k <= c:\n",
    "                position = list_default.index(c) - list_default.index(k)\n",
    "            else:\n",
    "                position = (26 + list_default.index(c)) - list_default.index(k)\n",
    "            plaintext += list_default[position]\n",
    "        else:\n",
    "            plaintext += c                    \n",
    "            \n",
    "    return plaintext\n",
    "\n",
    "print(encrypt_vigenere(\"EDUARDO LUIZ 123\", \"AB\"))\n",
    "print(decrypt_vigenere(encrypt_vigenere(\"EDUARDO LUIZ 123\", \"AB\"), \"AB\"))"
   ]
  },
  {
   "cell_type": "code",
   "execution_count": 102,
   "metadata": {},
   "outputs": [
    {
     "data": {
      "text/plain": [
       "True"
      ]
     },
     "execution_count": 102,
     "metadata": {},
     "output_type": "execute_result"
    }
   ],
   "source": [
    "all([\n",
    "  encrypt_vigenere('FLEEATONCE', 'A') == 'FLEEATONCE',\n",
    "  encrypt_vigenere('IMHIT', 'H') == 'PTOPA',\n",
    "  encrypt_vigenere('ATTACKATDAWN', 'LEMON') == 'LXFOPVEFRNHR',\n",
    "  encrypt_vigenere('WEAREDISCOVERED', 'LEMON') == 'HIMFROMEQBGIDSQ',\n",
    "  encrypt_vigenere('WEAREDISCOVERED', 'MELON') == 'IILFRPMDQBHICSQ',\n",
    "  encrypt_vigenere('CANTBELIEVE', 'ITSNOTBUTTER') == 'KTFGPXMCXOI',\n",
    "  encrypt_vigenere('CART', 'MAN') == 'OAEF',\n",
    "  encrypt_vigenere('HYPE', 'HYPE') == 'OWEI',\n",
    "  encrypt_vigenere('SAMELENGTH', 'PYTHONISTA') == 'HYFLZRVYMH',\n",
    "  encrypt_vigenere('SHORTERKEY', 'XYZZYZ') == 'PFNQRDOIDX',\n",
    "  encrypt_vigenere('A', 'ONEINPUT') == 'O',\n",
    "])"
   ]
  },
  {
   "cell_type": "code",
   "execution_count": 103,
   "metadata": {},
   "outputs": [
    {
     "data": {
      "text/plain": [
       "True"
      ]
     },
     "execution_count": 103,
     "metadata": {},
     "output_type": "execute_result"
    }
   ],
   "source": [
    "all([\n",
    "  decrypt_vigenere('FLEEATONCE', 'A') == 'FLEEATONCE',\n",
    "  decrypt_vigenere('PTOPA', 'H') == 'IMHIT',\n",
    "  decrypt_vigenere('LXFOPVEFRNHR', 'LEMON') == 'ATTACKATDAWN',\n",
    "  decrypt_vigenere('HIMFROMEQBGIDSQ', 'LEMON') == 'WEAREDISCOVERED',\n",
    "  decrypt_vigenere('IILFRPMDQBHICSQ', 'MELON') == 'WEAREDISCOVERED',\n",
    "  decrypt_vigenere('KTFGPXMCXOI', 'ITSNOTBUTTER') == 'CANTBELIEVE',\n",
    "  decrypt_vigenere('OAEF', 'MAN') == 'CART',\n",
    "  decrypt_vigenere('OWEI', 'HYPE') == 'HYPE',\n",
    "  decrypt_vigenere('HYFLZRVYMH', 'PYTHONISTA') == 'SAMELENGTH',\n",
    "  decrypt_vigenere('PFNQRDOIDX', 'XYZZYZ') == 'SHORTERKEY',\n",
    "  decrypt_vigenere('O', 'ONEINPUT') == 'A',\n",
    "])"
   ]
  },
  {
   "cell_type": "code",
   "execution_count": 106,
   "metadata": {},
   "outputs": [
    {
     "ename": "KeyboardInterrupt",
     "evalue": "",
     "output_type": "error",
     "traceback": [
      "\u001b[1;31m---------------------------------------------------------------------------\u001b[0m",
      "\u001b[1;31mKeyboardInterrupt\u001b[0m                         Traceback (most recent call last)",
      "\u001b[1;32m<ipython-input-106-6d54e1b61efc>\u001b[0m in \u001b[0;36m<module>\u001b[1;34m\u001b[0m\n\u001b[0;32m     41\u001b[0m                 \u001b[0mprint\u001b[0m\u001b[1;33m(\u001b[0m\u001b[0mdecrypt_vigenere\u001b[0m\u001b[1;33m(\u001b[0m\u001b[0mmessage\u001b[0m\u001b[1;33m,\u001b[0m \u001b[0mwd\u001b[0m\u001b[1;33m)\u001b[0m\u001b[1;33m)\u001b[0m\u001b[1;33m\u001b[0m\u001b[1;33m\u001b[0m\u001b[0m\n\u001b[0;32m     42\u001b[0m \u001b[1;33m\u001b[0m\u001b[0m\n\u001b[1;32m---> 43\u001b[1;33m \u001b[0mstrong_force\u001b[0m\u001b[1;33m(\u001b[0m\u001b[0msecret_message\u001b[0m\u001b[1;33m)\u001b[0m\u001b[1;33m\u001b[0m\u001b[1;33m\u001b[0m\u001b[0m\n\u001b[0m",
      "\u001b[1;32m<ipython-input-106-6d54e1b61efc>\u001b[0m in \u001b[0;36mstrong_force\u001b[1;34m(message)\u001b[0m\n\u001b[0;32m     39\u001b[0m             \u001b[1;32mif\u001b[0m \u001b[0mi\u001b[0m \u001b[1;33m==\u001b[0m \u001b[1;36m9\u001b[0m\u001b[1;33m:\u001b[0m\u001b[1;33m\u001b[0m\u001b[1;33m\u001b[0m\u001b[0m\n\u001b[0;32m     40\u001b[0m                 \u001b[0mprint\u001b[0m\u001b[1;33m(\u001b[0m\u001b[1;34mf\"Key: {wd}\"\u001b[0m\u001b[1;33m)\u001b[0m\u001b[1;33m\u001b[0m\u001b[1;33m\u001b[0m\u001b[0m\n\u001b[1;32m---> 41\u001b[1;33m                 \u001b[0mprint\u001b[0m\u001b[1;33m(\u001b[0m\u001b[0mdecrypt_vigenere\u001b[0m\u001b[1;33m(\u001b[0m\u001b[0mmessage\u001b[0m\u001b[1;33m,\u001b[0m \u001b[0mwd\u001b[0m\u001b[1;33m)\u001b[0m\u001b[1;33m)\u001b[0m\u001b[1;33m\u001b[0m\u001b[1;33m\u001b[0m\u001b[0m\n\u001b[0m\u001b[0;32m     42\u001b[0m \u001b[1;33m\u001b[0m\u001b[0m\n\u001b[0;32m     43\u001b[0m \u001b[0mstrong_force\u001b[0m\u001b[1;33m(\u001b[0m\u001b[0msecret_message\u001b[0m\u001b[1;33m)\u001b[0m\u001b[1;33m\u001b[0m\u001b[1;33m\u001b[0m\u001b[0m\n",
      "\u001b[1;31mKeyboardInterrupt\u001b[0m: "
     ]
    }
   ],
   "source": [
    "# Bônus\n",
    "# Why hello! You've found a secret message! I guess filenames can be misleading sometimes.\n",
    "# There's an inscription here stating that this text was encrypted with a Vigenere cipher using a common word (from /usr/share/dict/words) as a keyword. What could it say?! Surely gold and glory await your discovery.\n",
    "\n",
    "dict_file = 'C:/words'\n",
    "secret_message = 'WCR FCH! VJTK MBJ''PX PBITQMPUNIGGN HUXQ TZGVVLFLBG PQ FBQU PQ IVGFXZEL. VBCCLAZL, X''K CBGG PBWPBT P JHA CS ICQA GB IFTA WG''H Y EPHGAC XHGVTP YVF LDS MV RRRPRWH GWGL. HDCPPXUHYN GM DCEZQ ULHGTP BM W ETNXHH ETNXHH ETNXHH ETNXHH ZNQXST JXRA DCESQ MOOG PPX AVR HYFL ZRCEMO OF IFX RSL! QSM DVNI YKL HUT MWKG LDS CBGG VSXZGRS RAL YRN YGFKNN? UXSZ, FXLVL MBJ KTKS VI RAPG SPP, POM QDL''M FCH BYDL O CGGOHHR EMLA CA EGTGNN LGMO HUT QXJFRI UHYR \"CXLXHDCAC\" TUR V''AJ ZLH LDS T UWPT 10 CQAFN QMGBG CDGGAG. LDS PVB''G WYOL HB GCILOG GCILOG GCILOG GCILOG IFBZ QBJPLL!'\n",
    "list_char = list_default + [\" \"]\n",
    "\n",
    "def load_english():\n",
    "    \"\"\"Load and return a collection of english words from a file.\"\"\"\n",
    "    words = []\n",
    "    with open(dict_file, 'r') as f:\n",
    "        for word in f.readlines():\n",
    "            words.append(word.strip().upper())\n",
    "    return words\n",
    "\n",
    "\n",
    "def strong_force(message):\n",
    "    dict_english = load_english()\n",
    "    \n",
    "    filtered_message = \"\"\n",
    "    \n",
    "    for ch in message:\n",
    "        if (ch in list_char):\n",
    "            filtered_message += ch\n",
    "\n",
    "    words = filtered_message.split()\n",
    "    \n",
    "    #for wd in dict_english:\n",
    "    #    if decrypt_vigenere(first_word, wd) in dict_english and decrypt_vigenere(second_word, wd) in dict_english:\n",
    "    #        print(f\"Key: {wd}\")\n",
    "    #        print(decrypt_vigenere(secret_message, wd))\n",
    "\n",
    "    for wd in dict_english:\n",
    "        for i in range(10):\n",
    "            if decrypt_vigenere(words[i], wd) not in dict_english:\n",
    "                break\n",
    "            \n",
    "            if i == 9:\n",
    "                print(f\"Key: {wd}\")\n",
    "                print(decrypt_vigenere(message, wd))\n",
    "        \n",
    "strong_force(secret_message)\n",
    "\n",
    "#seria algo mais ou mmenos assim para solucionar, usando a criptografia de vigenere, porém não vou ter tempo para finalizar."
   ]
  },
  {
   "cell_type": "markdown",
   "metadata": {},
   "source": [
    "## Bônus\n",
    "\n",
    "Dê uma olhada em `not_a_secret_message.txt`. Uma extensão possível é tentar descriptografar essa mensagem (ou qualquer mensagem criptografada!). Apesar de não saber qual é a chave. Para essa criptografia, ignore completamente caracteres não alfabéticos.\n",
    "\n",
    "## Dicas\n",
    "\n",
    "O módulo `string` exporta alguns valores úteis:\n",
    "\n",
    "```python\n",
    ">>> import string\n",
    "\n",
    ">>> string.ascii_letters\n",
    "'abcdefghijklmnopqrstuvwxyzABCDEFGHIJKLMNOPQRSTUVWXYZ'\n",
    "\n",
    ">>> string.ascii_uppercase\n",
    "'ABCDEFGHIJKLMNOPQRSTUVWXYZ'\n",
    "\n",
    ">>> string.ascii_lowercase\n",
    "'abcdefghijklmnopqrstuvwxyz'\n",
    "\n",
    ">>> string.punctuation\n",
    "'!\"#$%&\\'()*+,-./:;<=>?@[\\\\]^_`{|}~'\n",
    "```\n",
    "\n",
    "Pense no que sabemos sobre estruturas de dados. Como podemos criar e manipular eficientemente listas e dicionários?\n",
    "\n",
    "Como você pode percorrer as letras do argumento `keyword` da cifra de Vigenere? Considere olhar para funções exportadas pelo módulo `itertools`.\n",
    "\n",
    "Você pode usar as funções `ord` e` chr` que convertem strings de comprimento um para seus equivalentes numéricos ASCII. Por exemplo, `ord ('A') == 65`,` ord ('B') == 66`, ..., `ord ('Z') == 90` e` chr (65) == 'A'`, `chr (66) ==' B'`, ...,` chr (90) == 'Z'`.\n",
    "\n",
    "## Créditos\n",
    "\n",
    "*Sherman Leung (@skleung), Python Tutorial, Learn Python the Hard Way, Google Python, MIT OCW 6.189, Project Euler, and Wikipedia's list of ciphers.*\n",
    "\n",
    "> With <3 by @sredmond "
   ]
  }
 ],
 "metadata": {
  "kernelspec": {
   "display_name": "Python 3",
   "language": "python",
   "name": "python3"
  },
  "language_info": {
   "codemirror_mode": {
    "name": "ipython",
    "version": 3
   },
   "file_extension": ".py",
   "mimetype": "text/x-python",
   "name": "python",
   "nbconvert_exporter": "python",
   "pygments_lexer": "ipython3",
   "version": "3.7.1"
  }
 },
 "nbformat": 4,
 "nbformat_minor": 2
}
