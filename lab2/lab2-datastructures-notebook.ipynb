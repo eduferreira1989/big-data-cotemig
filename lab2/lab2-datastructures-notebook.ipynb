{
 "cells": [
  {
   "cell_type": "markdown",
   "metadata": {},
   "source": [
    "# Lab 2: Estruturas de dados"
   ]
  },
  {
   "cell_type": "markdown",
   "metadata": {},
   "source": [
    "## Investigando Estruturas de Dados\n",
    "*[Leitura opcional sobre tipos padrão - confira as seções \"Sequence types\" e \"Mapping types\"](https://docs.python.org/3/library/stdtypes.html)*"
   ]
  },
  {
   "cell_type": "markdown",
   "metadata": {},
   "source": [
    "### Listas\n",
    "Preveja o que as seguintes linhas do Python farão. Em seguida, execute o bloco de código abaixo para ver se eles correspondem ao que você espera:\n",
    "\n",
    "```Python\n",
    "s = [0] * 3\n",
    "print(s)\n",
    "s[0] += 1\n",
    "print(s)\n",
    "\n",
    "s = [''] * 3\n",
    "print(s)\n",
    "s[0] += 'a'\n",
    "print(s)\n",
    "\n",
    "s = [[]] * 3\n",
    "print(s)\n",
    "s[0] += [1]\n",
    "print(s)\n",
    "```"
   ]
  },
  {
   "cell_type": "code",
   "execution_count": 7,
   "metadata": {},
   "outputs": [
    {
     "name": "stdout",
     "output_type": "stream",
     "text": [
      "[0, 0, 0]\n",
      "[1, 0, 0]\n",
      "['', '', '']\n",
      "['a', '', '']\n",
      "[[], [], []]\n",
      "[[1], [1], [1]]\n"
     ]
    }
   ],
   "source": [
    "# Explore os elementos das listas. A saída é o que você espera?\n",
    "# Cria lista com 3 elementos 0 da lista e depois adiciona uma unidade no primeiro\n",
    "s = [0] * 3\n",
    "print(s)\n",
    "s[0] += 1\n",
    "print(s)\n",
    "\n",
    "# Cria lista com 3 elementos '' na lista e depois adiciona o caractere 'a' no primeiro\n",
    "s = [''] * 3\n",
    "print(s)\n",
    "s[0] += 'a'\n",
    "print(s)\n",
    "\n",
    "# Cria lista com 3 elementos listas vazias na lista e depois adiciona uma lista com o elemento 1 na posicão 0, que por ser um elemento mutável reflete nos demais elementos\n",
    "s = [[]] * 3\n",
    "print(s)\n",
    "s[0] += [1]\n",
    "print(s)"
   ]
  },
  {
   "cell_type": "markdown",
   "metadata": {},
   "source": [
    "Por que isso está acontecendo? Considere usar a função `id` para investigar mais. O que acontece quando substituímos a penúltima linha por `s[0] = s[0] + [1]`? E se nós substituirmos a linha com `s[0].append(1)`?"
   ]
  },
  {
   "cell_type": "code",
   "execution_count": 8,
   "metadata": {},
   "outputs": [
    {
     "data": {
      "text/plain": [
       "4592478728"
      ]
     },
     "execution_count": 8,
     "metadata": {},
     "output_type": "execute_result"
    }
   ],
   "source": [
    "id(s[1]) #Todos os elementos apontam pro mesmo Id na lista de listas"
   ]
  },
  {
   "cell_type": "code",
   "execution_count": 9,
   "metadata": {},
   "outputs": [
    {
     "name": "stdout",
     "output_type": "stream",
     "text": [
      "[[1, 1], [1], [1]]\n"
     ]
    }
   ],
   "source": [
    "s[0] = s[0] + [1]\n",
    "print(s) #Cria nova lista na posicão 0"
   ]
  },
  {
   "cell_type": "code",
   "execution_count": 10,
   "metadata": {},
   "outputs": [
    {
     "name": "stdout",
     "output_type": "stream",
     "text": [
      "[[1, 1, 1], [1], [1]]\n"
     ]
    }
   ],
   "source": [
    "s[0].append(1)\n",
    "print(s) #Realiza a mesma alteracão"
   ]
  },
  {
   "cell_type": "code",
   "execution_count": 15,
   "metadata": {},
   "outputs": [
    {
     "data": {
      "text/plain": [
       "4592674632"
      ]
     },
     "execution_count": 15,
     "metadata": {},
     "output_type": "execute_result"
    }
   ],
   "source": [
    "id(s[0])\n"
   ]
  },
  {
   "cell_type": "markdown",
   "metadata": {},
   "source": [
    "### Tuplas\n",
    "\n",
    "Escreva uma função para calcular o [GCD](https://en.wikipedia.org/wiki/Greatest_common_divisor) de dois inteiros positivos. Você pode usar livremente o fato de que `gcd(a, b)` é matematicamente igual a `gcd(b, a % b)`, e que `gcd(a, 0) == a`.\n",
    "\n",
    "Você pode assumir que `a >= b` se quiser.\n",
    "\n",
    "É possível fazer isso em três linhas de código Python (ou ainda menos!). Considere explorar os conceitos de packing e unpacking!\n",
    "\n",
    "*Nota: A biblioteca padrão possui uma função `gcd`. Evite simplesmente importar essa função e usá-la aqui - o objetivo é praticar com o empacotamento (packing) e desempacotamento (unpacking) da tupla!*"
   ]
  },
  {
   "cell_type": "code",
   "execution_count": 28,
   "metadata": {},
   "outputs": [
    {
     "name": "stdout",
     "output_type": "stream",
     "text": [
      "5\n",
      "1\n",
      "3\n",
      "1\n"
     ]
    }
   ],
   "source": [
    "def gcd(a, b):\n",
    "    \"\"\"Compute the GCD of two positive integers.\"\"\"\n",
    "    while b:\n",
    "        a,b = b,a%b\n",
    "    return a\n",
    "    \n",
    "print(gcd(10, 25)) # => 5\n",
    "print(gcd(14, 15)) # => 1\n",
    "print(gcd(3, 9)) # => 3\n",
    "print(gcd(1, 1)) # => 1"
   ]
  },
  {
   "cell_type": "markdown",
   "metadata": {},
   "source": [
    "### Dicionários\n",
    "\n",
    "Na aula, vimos uma implementação (ingênua) de uma compreensão do dicionário que troca as chaves e os valores em um dicionário:\n",
    "\n",
    "```\n",
    "{value: key for key, value in dictionary.items()}\n",
    "```\n",
    "\n",
    "No entanto, essa abordagem falhará quando houver duas chaves no dicionário com o mesmo valor. Por que isso falhará?\n",
    "\n",
    "Escreva uma função que inverte corretamente as chaves e valores de um dicionário - cada chave (originalmente um valor) deve mapear para uma coleção de valores (chaves originais) que foram mapeados para ela. Por exemplo,\n",
    "\n",
    "```\n",
    "flip_dict({\"CA\": \"US\", \"NY\": \"US\", \"ON\": \"CA\"})\n",
    "\n",
    "# => {\"US\": [\"CA\", \"NY\"], \"CA\": [\"ON\"]}\n",
    "\n",
    "\n",
    "```\n"
   ]
  },
  {
   "cell_type": "code",
   "execution_count": 33,
   "metadata": {},
   "outputs": [
    {
     "name": "stdout",
     "output_type": "stream",
     "text": [
      "{'US': ['CA', 'NY'], 'CA': ['ON']}\n"
     ]
    }
   ],
   "source": [
    "# A abordagem falhará pois irá substituir o valor da primeira chave (no dicionário invertido) pelo valor da segunda chave\n",
    "# perdendo assim a referência do primeiro valor\n",
    "\n",
    "def flip_dict(input_dict):\n",
    "    \"\"\"Reverse the keys and values of a dictionary.\"\"\"\n",
    "    \n",
    "    new_dict = {}\n",
    "    \n",
    "    for key,value in input_dict.items():\n",
    "        if value not in new_dict:\n",
    "            new_dict[value] = [key]\n",
    "        else:\n",
    "            new_dict[value].append(key)\n",
    "        \n",
    "    return new_dict\n",
    "    \n",
    "print(flip_dict({\"CA\": \"US\", \"NY\": \"US\", \"ON\": \"CA\"}))"
   ]
  },
  {
   "cell_type": "markdown",
   "metadata": {},
   "source": [
    "### Compreensões (Comprehensions)\n",
    "\n",
    "Preveja a saída de cada uma das seguintes compreensões de lista. **Depois de ter escrito sua hipótese**, execute a célula de código para ver se você estava correto. Se você estava incorreto, discuta com um parceiro por que o código retorna o que ele faz.\n",
    "\n",
    "```Python\n",
    "[x for x in [1, 2, 3, 4]]\n",
    "[n - 2 for n in range(10)]\n",
    "[k % 10 for k in range(41) if k % 3 == 0]\n",
    "[s.lower() for s in ['PythOn', 'iS', 'cOoL'] if s[0] < s[-1]]\n",
    "\n",
    "# Something is fishy here. Can you spot it?\n",
    "arr = [[3,2,1], ['a','b','c'], [('do',), ['re'], 'mi']]\n",
    "print([el.append(el[0] * 4) for el in arr])  # What is printed?\n",
    "print(arr)  # What is the content of `arr` at this point?\n",
    "\n",
    "[letter for letter in \"pYthON\" if letter.isupper()]\n",
    "{len(w) for w in [\"its\", \"the\", \"remix\", \"to\", \"ignition\"]}\n",
    "```"
   ]
  },
  {
   "cell_type": "code",
   "execution_count": 1,
   "metadata": {},
   "outputs": [
    {
     "name": "stdout",
     "output_type": "stream",
     "text": [
      "[1, 2, 3, 4]\n",
      "[-2, -1, 0, 1, 2, 3, 4, 5, 6, 7]\n",
      "[0, 3, 6, 9, 2, 5, 8, 1, 4, 7, 0, 3, 6, 9]\n",
      "['python']\n",
      "[None, None, None]\n",
      "[[3, 2, 1, 12], ['a', 'b', 'c', 'aaaa'], [('do',), ['re'], 'mi', ('do', 'do', 'do', 'do')]]\n",
      "['Y', 'O', 'N']\n",
      "{8, 2, 3, 5}\n"
     ]
    }
   ],
   "source": [
    "# Predict the output of the following comprehensions. Does the output match what you expect?\n",
    "print([x for x in [1, 2, 3, 4]]) #Cria e Imprime Lista de 1 a 4\n",
    "print([n - 2 for n in range(10)]) #Cria e Imprime Lista de  -2, -1, 0, 1, 2, 3, 4, 5, 6, 7\n",
    "print([k % 10 for k in range(41) if k % 3 == 0]) #Cria e Imprime Lista de restos da divisão por 10 do range 0, 41, desde que sejam divisíveis por 3 \n",
    "print([s.lower() for s in ['PythOn', 'iS', 'cOoL'] if s[0] < s[-1]]) #Cria e Imprime Lista de palavras se primeiro caracter for menor que o último(tornando misuculas a letras) \n",
    "\n",
    "# Something is fishy here. Can you spot it?\n",
    "arr = [[3,2,1], ['a','b','c'], [('do',), ['re'], 'mi']]\n",
    "print([el.append(el[0] * 4) for el in arr])  # What is printed? -> Imprime lista adicionando ao final de cada sublista o primeiro elemento dela * 4\n",
    "print(arr)  # What is the content of `arr` at this point? -> [[3,2,1,12], ['a','b','c','aaaa'], [('do',), ['re'], 'mi',('do', 'do', 'do', 'do')]]\n",
    "\n",
    "print([letter for letter in \"pYthON\" if letter.isupper()]) #Cria e Imprime Lista de caracteres maiúsculos nastring, no caso Y O e N\n",
    "print({len(w) for w in [\"its\", \"the\", \"remix\", \"to\", \"ignition\"]}) #Imprime o tamanho de cada string dentro do dicionário (na ordem do dicionário)"
   ]
  },
  {
   "cell_type": "markdown",
   "metadata": {},
   "source": [
    "Agora escreva as compreensões para transformar a estrutura de dados de entrada na estrutura de dados de saída:\n",
    "\n",
    "```\n",
    "[0, 1, 2, 3] -> [1, 3, 5, 7]  # Double and add one\n",
    "['apple', 'orange', 'pear'] -> ['A', 'O', 'P']  # Capitalize first letter\n",
    "['apple', 'orange', 'pear'] -> ['apple', 'pear']  # Contains a 'p'\n",
    "\n",
    "[\"TA_sam\", \"student_poohbear\", \"TA_guido\", \"student_htiek\"] -> [\"sam\", \"guido\"]\n",
    "['apple', 'orange', 'pear'] -> [('apple', 5), ('orange', 6), ('pear', 4)]\n",
    "\n",
    "['apple', 'orange', 'pear'] -> {'apple': 5, 'orange': 6, 'pear': 4}\n",
    "```"
   ]
  },
  {
   "cell_type": "code",
   "execution_count": 33,
   "metadata": {},
   "outputs": [
    {
     "name": "stdout",
     "output_type": "stream",
     "text": [
      "[3, 7, 11, 15]\n",
      "['A', 'O', 'P']\n",
      "['apple', 'pear']\n",
      "['sam', 'guido']\n",
      "[('apple', 5), ('orange', 6), ('pear', 4)]\n",
      "{'apple': 5, 'orange': 6, 'pear': 4}\n"
     ]
    }
   ],
   "source": [
    "nums = [1, 3, 5, 7]\n",
    "fruits = ['apple', 'orange', 'pear']\n",
    "people = [\"TA_sam\", \"student_poohbear\", \"TA_guido\", \"student_htiek\"]\n",
    "\n",
    "# Add your comprehensions here!\n",
    "print([(x * 2) + 1 for x in nums])\n",
    "print([x[0].upper() for x in fruits])\n",
    "print([x for x in fruits if x.find('p') >= 0])\n",
    "print([x[3:]  for x in people if x.find('sam') >= 0 or x.find('guido') >= 0])\n",
    "print([(x , len(x)) for x in fruits])\n",
    "print({x : len(x) for x in fruits})"
   ]
  },
  {
   "cell_type": "markdown",
   "metadata": {},
   "source": [
    "### Triângulo de Pascal\n",
    "\n",
    "Escreva uma função que gere o próximo nível do [Triângulo de Pascal](https://en.wikipedia.org/wiki/Pascal%27s_triangle) dada uma lista que represente uma linha do triângulo de Pascal.\n",
    "\n",
    "```\n",
    "generate_pascal_row([1, 2, 1]) -> [1, 3, 3, 1]\n",
    "generate_pascal_row([1, 4, 6, 4, 1]) -> [1, 5, 10, 10, 5, 1]\n",
    "generate_pascal_row([]) -> [1]\n",
    "```\n",
    "\n",
    "Como lembrete, cada elemento em uma linha do triângulo de Pascal é formado pela soma dos dois elementos na linha anterior diretamente acima (à esquerda e à direita) desses elementos. Se houver apenas um elemento diretamente acima, adicionamos apenas aquele. Por exemplo, as primeiras 5 linhas do triângulo de Pascal se parecem com:\n",
    "\n",
    "```\n",
    "    1\n",
    "   1 1\n",
    "  1 2 1\n",
    " 1 3 3 1\n",
    "1 4 6 4 1\n",
    "```\n",
    "\n",
    "Você pode achar a função `zip` discutida brevemente na aula útil. Alternativamente, você poderia resolver este problema com o `enumerate`. Evite usar um loop no formato `for i em len(range(row)):`.\n",
    "\n",
    "*Dica: Confira o diagrama abaixo. Como você pode usar essa percepção para ajudar a resolver esse problema?*\n",
    "\n",
    "```\n",
    "  0 1 3 3 1\n",
    "+ 1 3 3 1 0\n",
    "-----------\n",
    "  1 4 6 4 1\n",
    "``` "
   ]
  },
  {
   "cell_type": "code",
   "execution_count": 2,
   "metadata": {},
   "outputs": [
    {
     "name": "stdout",
     "output_type": "stream",
     "text": [
      "[1, 3, 3, 1]\n",
      "[1, 5, 10, 10, 5, 1]\n",
      "[1]\n"
     ]
    }
   ],
   "source": [
    "def generate_pascal_row(row):\n",
    "    \"\"\"Generate the next row of Pascal's triangle.\"\"\"\n",
    "    next_row = []\n",
    "    row_step1 = [x for x in row]\n",
    "    row_step1.append(0)\n",
    "    row.insert(0,0)    \n",
    "    for a, b in zip(row, row_step1):\n",
    "        next_row.append(a + b)\n",
    "    \n",
    "    if len(next_row) == 1:\n",
    "        next_row[0] = 1\n",
    "    \n",
    "    return next_row\n",
    "\n",
    "print(generate_pascal_row([1, 2, 1]))  # => [1, 3, 3, 1]\n",
    "print(generate_pascal_row([1, 4, 6, 4, 1]))  # => [1, 5, 10, 10, 5, 1]\n",
    "print(generate_pascal_row([]))  # => [1]"
   ]
  },
  {
   "cell_type": "markdown",
   "metadata": {},
   "source": [
    "#### Impressão bonita Pascal (Opcional)\n",
    "\n",
    "Dado um número `n`, imprima as primeiras `n` linhas do triângulo de Pascal, centrando cada linha. Você deve usar a função `generate_pascal_row` que você escreveu anteriormente. O triângulo de Pascal com 1 linha contém apenas o número '1'.\n",
    "\n",
    "Para centralizar uma string em Python, você pode usar o método `.center(width)`. Por exemplo:\n",
    "\n",
    "```\n",
    "\"CS41\".center(10)  # => '   CS41   '\n",
    "```\n",
    "\n",
    "Você pode até mesmo especificar um `fillchar` opcional para preencher com caracteres diferentes de espaços!\n",
    "\n",
    "A parte mais difícil desse problema é determinar a largura da linha inferior do triângulo. Você precisará gerar todas as linhas do triângulo e armazená-las antes de poder imprimir qualquer uma delas."
   ]
  },
  {
   "cell_type": "code",
   "execution_count": 3,
   "metadata": {
    "scrolled": false
   },
   "outputs": [
    {
     "name": "stdout",
     "output_type": "stream",
     "text": [
      "                                                          1                                                          \n",
      "                                                         1 1                                                         \n",
      "                                                        1 2 1                                                        \n",
      "                                                       1 3 3 1                                                       \n",
      "                                                      1 4 6 4 1                                                      \n",
      "                                                    1 5 10 10 5 1                                                    \n",
      "                                                   1 6 15 20 15 6 1                                                  \n",
      "                                                 1 7 21 35 35 21 7 1                                                 \n",
      "                                                1 8 28 56 70 56 28 8 1                                               \n",
      "                                             1 9 36 84 126 126 84 36 9 1                                             \n",
      "                                         1 10 45 120 210 252 210 120 45 10 1                                         \n",
      "                                       1 11 55 165 330 462 462 330 165 55 11 1                                       \n",
      "                                     1 12 66 220 495 792 924 792 495 220 66 12 1                                     \n",
      "                                 1 13 78 286 715 1287 1716 1716 1287 715 286 78 13 1                                 \n",
      "                              1 14 91 364 1001 2002 3003 3432 3003 2002 1001 364 91 14 1                             \n",
      "                          1 15 105 455 1365 3003 5005 6435 6435 5005 3003 1365 455 105 15 1                          \n",
      "                      1 16 120 560 1820 4368 8008 11440 12870 11440 8008 4368 1820 560 120 16 1                      \n",
      "                  1 17 136 680 2380 6188 12376 19448 24310 24310 19448 12376 6188 2380 680 136 17 1                  \n",
      "               1 18 153 816 3060 8568 18564 31824 43758 48620 43758 31824 18564 8568 3060 816 153 18 1               \n",
      "           1 19 171 969 3876 11628 27132 50388 75582 92378 92378 75582 50388 27132 11628 3876 969 171 19 1           \n",
      "     1 20 190 1140 4845 15504 38760 77520 125970 167960 184756 167960 125970 77520 38760 15504 4845 1140 190 20 1    \n",
      "1 21 210 1330 5985 20349 54264 116280 203490 293930 352716 352716 293930 203490 116280 54264 20349 5985 1330 210 21 1\n"
     ]
    }
   ],
   "source": [
    "def print_pascal_triangle(n):\n",
    "    \"\"\"Print the first n rows of Pascal's triangle.\"\"\"\n",
    "    rows = [[1],]\n",
    "    \n",
    "    for i in range(n-1):\n",
    "        rows.append(generate_pascal_row(rows[i]))\n",
    "        rows[i].remove(0)\n",
    "    \n",
    "    len_last = len(list_to_string(rows[-1]))\n",
    "    \n",
    "    for i in rows:\n",
    "        print(list_to_string(i).center(len_last))\n",
    "\n",
    "def list_to_string(lista):\n",
    "    \"\"\"Transform a list in a string.\"\"\"\n",
    "    str_list = \"\"\n",
    "    for i in lista:\n",
    "        str_list += f\"{i} \"\n",
    "    \n",
    "    return str_list[0:-1]\n",
    "        \n",
    "print_pascal_triangle(22)"
   ]
  },
  {
   "cell_type": "markdown",
   "metadata": {},
   "source": [
    "## Palavras Especiais\n",
    "\n",
    "Para cada um dos problemas a seguir, descrevemos um critério que torna uma palavra (ou frase!) Especial, similar às nossas \"Palavras eficientes\" da aula.\n",
    "\n",
    "Se você estiver usando macOS ou Linux, você deve ter um arquivo de dicionário disponível em `/usr/share/dict/words`, um arquivo de texto de 2.5M contendo mais de 200 mil palavras em inglês, uma por linha. Entretanto, também está disponível este arquivo em `https://stanfordpython.com/res/misc/words`, para que você possa baixar o dicionário de lá, se o seu computador não tiver este arquivo de dicionário prontamente disponível.\n",
    "\n",
    "Qual seria uma estrutura de dados apropriada para armazenar as palavras em inglês?\n",
    "\n",
    "Escreva o método `load_english` para carregar palavras inglesas deste arquivo. Quantas palavras inglesas existem neste arquivo?"
   ]
  },
  {
   "cell_type": "code",
   "execution_count": 1,
   "metadata": {},
   "outputs": [
    {
     "name": "stdout",
     "output_type": "stream",
     "text": [
      "235886\n"
     ]
    }
   ],
   "source": [
    "# If you downloaded words from the course website,\n",
    "# change me to the path to the downloaded file.\n",
    "DICTIONARY_FILE = 'C:/words'\n",
    "\n",
    "def load_english():\n",
    "    \"\"\"Load and return a collection of english words from a file.\"\"\"\n",
    "    words = []\n",
    "    with open(DICTIONARY_FILE, 'r') as f:\n",
    "        for word in f.readlines():\n",
    "            words.append(word.strip())\n",
    "        \n",
    "    return words\n",
    "\n",
    "english = load_english()\n",
    "print(len(english))"
   ]
  },
  {
   "cell_type": "markdown",
   "metadata": {},
   "source": [
    "### Frases Tríade\n",
    "\n",
    "Palavras Tríade são palavras em inglês para as quais as duas strings menores que você faz, extraindo letras alternadas, formam palavras válidas.\n",
    "\n",
    "Por examplo:\n",
    "\n",
    "![Triad Phrases](http://i.imgur.com/jGEXJWi.png)\n",
    "\n",
    "Escreva uma função para determinar se uma frase inteira passada em uma função **é feita de** palavras tríade. Você pode assumir que todas as palavras são feitas apenas de caracteres alfabéticos e são separadas por espaço em branco. Consideraremos a string vazia como uma palavra inglesa inválida.\n",
    "\n",
    "```\n",
    "is_triad_phrase(\"learned theorem\") # => True\n",
    "is_triad_phrase(\"studied theories\") # => False\n",
    "is_triad_phrase(\"wooded agrarians\") # => True\n",
    "is_triad_phrase(\"forrested farmers\") # => False\n",
    "is_triad_phrase(\"schooled oriole\") # => True\n",
    "is_triad_phrase(\"educated small bird\") # => False\n",
    "is_triad_phrase(\"a\") # => False\n",
    "is_triad_phrase(\"\") # => False\n",
    "```\n",
    "\n",
    "Gere uma lista de todas as palavras tríade. Quantos estão lá? Encontramos 2770 palavras tríade distintas (case-insensitive)."
   ]
  },
  {
   "cell_type": "code",
   "execution_count": 2,
   "metadata": {},
   "outputs": [
    {
     "name": "stdout",
     "output_type": "stream",
     "text": [
      "True\n",
      "False\n",
      "True\n",
      "False\n",
      "True\n",
      "False\n",
      "False\n",
      "False\n",
      "Foram encontradas 2149 palavras tríades.\n"
     ]
    }
   ],
   "source": [
    "def is_triad_word(word, english):\n",
    "    \"\"\"Return whether a word is a triad word.\"\"\"\n",
    "    a = word[0::2]\n",
    "    b = word[1::2]\n",
    "    if a in english and b in english:\n",
    "        return True\n",
    "    \n",
    "    return False\n",
    "    \n",
    "def is_triad_phrase(phrase, english):\n",
    "    \"\"\"Return whether a phrase is composed of only triad words.\"\"\"\n",
    "    words = phrase.split()\n",
    "    \n",
    "    if len(words) == 0:\n",
    "        return False\n",
    "    \n",
    "    for wd in words:\n",
    "        if not is_triad_word(wd, english):\n",
    "            return False\n",
    "        \n",
    "    return True\n",
    "\n",
    "#Teste\n",
    "print(is_triad_phrase(\"learned theorem\", english)) # => True\n",
    "print(is_triad_phrase(\"studied theories\", english)) # => False\n",
    "print(is_triad_phrase(\"wooded agrarians\", english)) # => True\n",
    "print(is_triad_phrase(\"forrested farmers\", english)) # => False\n",
    "print(is_triad_phrase(\"schooled oriole\", english)) # => True\n",
    "print(is_triad_phrase(\"educated small bird\", english)) # => False\n",
    "print(is_triad_phrase(\"a\", english)) # => False\n",
    "print(is_triad_phrase(\"\", english)) # => False\n",
    "\n",
    "#Encontrar todas as palavras\n",
    "all_triad_words = []\n",
    "\n",
    "for w in english:\n",
    "    if is_triad_word(w, english):\n",
    "        all_triad_words.append(w)\n",
    "        \n",
    "print(f\"Foram encontradas {len(all_triad_words)} palavras tríades.\")"
   ]
  },
  {
   "cell_type": "markdown",
   "metadata": {},
   "source": [
    "### Frases Crescentes (challenge)\n",
    "\n",
    "As Palavras Crescentes são as palavras inglesas para as quais a distância entre cada par adjacente de letras aumenta estritamente.\n",
    "\n",
    "Por exemplo:\n",
    "\n",
    "![Surpassing Phrases](http://i.imgur.com/XKiCnUc.png)\n",
    "\n",
    "Escreva uma função para determinar se uma frase inteira passada em uma função é feita de palavras Palavras Crescentes. Você pode assumir que todas as palavras são feitas apenas de caracteres alfabéticos e são separadas por espaço em branco. Consideraremos a string vazia e uma string de 1 caractere como válidas para uma Palavras Crescentes.\n",
    "\n",
    "```python\n",
    "is_surpassing_phrase(\"superb subway\") # => True\n",
    "is_surpassing_phrase(\"excellent train\") # => False\n",
    "is_surpassing_phrase(\"porky hogs\") # => True\n",
    "is_surpassing_phrase(\"plump pigs\") # => False\n",
    "is_surpassing_phrase(\"turnip fields\") # => True\n",
    "is_surpassing_phrase(\"root vegetable lands\") # => False\n",
    "is_surpassing_phrase(\"a\") # => True\n",
    "is_surpassing_phrase(\"\") # => True\n",
    "```\n",
    "\n",
    "Nós fornecemos uma função `character_gap` que retorna o espaço entre dois caracteres. Para entender como funciona, primeiro você deve aprender sobre as funções do Python `ord` (string de um caractere para ordinal inteiro) e` chr` (ordinal de inteiro para uma string de um caractere). Por exemplo:\n",
    "\n",
    "```python\n",
    "ord('a') # => 97\n",
    "chr(97) # => 'a'\n",
    "```\n",
    "\n",
    "Assim, para encontrar a lacuna entre `G` e` E`, calculamos `abs(ord('G') - ord('E'))`, onde `abs` retorna o valor absoluto de seu argumento.\n",
    "\n",
    "Gere uma lista de todas as Palavras Crescentes. Quantos estão lá? Encontramos 1931 palavras distintas."
   ]
  },
  {
   "cell_type": "code",
   "execution_count": 10,
   "metadata": {},
   "outputs": [
    {
     "name": "stdout",
     "output_type": "stream",
     "text": [
      "True\n",
      "False\n",
      "True\n",
      "False\n",
      "True\n",
      "False\n",
      "True\n",
      "True\n",
      "Foram encontradas 2654 palavras crescentes.\n"
     ]
    }
   ],
   "source": [
    "def character_gap(ch1, ch2):\n",
    "    \"\"\"Return the absolute gap between two characters.\"\"\"\n",
    "    return abs(ord(ch1) - ord(ch2))\n",
    "\n",
    "def is_surpassing_word(word):\n",
    "    \"\"\"Return whether a word is surpassing.\"\"\"\n",
    "    word_step0 = word[:-1]\n",
    "    word_step1 = word[1:]\n",
    "    gap = 0\n",
    "    for a, b in zip(word_step0, word_step1):\n",
    "        new_gap = character_gap(a, b)\n",
    "        if new_gap >= gap:\n",
    "            gap = new_gap\n",
    "        else:\n",
    "            return False\n",
    "    \n",
    "    return True\n",
    "\n",
    "def is_surpassing_phrase(phrase):\n",
    "    \"\"\"Return whether a word is surpassing.\"\"\"\n",
    "    words = phrase.split()\n",
    "    \n",
    "    for wd in words:\n",
    "        if not is_surpassing_word(wd):\n",
    "            return False\n",
    "        \n",
    "    return True\n",
    "\n",
    "#Teste\n",
    "print(is_surpassing_phrase(\"superb subway\")) # => True\n",
    "print(is_surpassing_phrase(\"excellent train\")) # => False\n",
    "print(is_surpassing_phrase(\"porky hogs\")) # => True\n",
    "print(is_surpassing_phrase(\"plump pigs\")) # => False\n",
    "print(is_surpassing_phrase(\"turnip fields\")) # => True\n",
    "print(is_surpassing_phrase(\"root vegetable lands\")) # => False\n",
    "print(is_surpassing_phrase(\"a\")) # => True\n",
    "print(is_surpassing_phrase(\"\")) # => True\n",
    "\n",
    "#Encontrar todas as palavras\n",
    "all_surpassing_words = []\n",
    "\n",
    "for w in english:\n",
    "    if is_surpassing_word(w):\n",
    "        all_surpassing_words.append(w)\n",
    "        \n",
    "print(f\"Foram encontradas {len(all_surpassing_words)} palavras crescentes.\")"
   ]
  },
  {
   "cell_type": "markdown",
   "metadata": {},
   "source": [
    "### Frases Ciclone (challenge)\n",
    "\n",
    "Palavras Ciclone são palavras em inglês que possuem uma sequência de caracteres em ordem alfabética ao seguir um padrão cíclico.\n",
    "\n",
    "Por exemplo:\n",
    "\n",
    "![Cyclone Phrases](http://i.stack.imgur.com/4XBV3.png)\n",
    "\n",
    "Escreva uma função que determine se uma frase inteira passada em uma função é feita de palavras Ciclone. Você pode assumir que todas as palavras são feitas apenas de caracteres alfabéticos e são separadas por espaço em branco.\n",
    "\n",
    "```\n",
    "is_cyclone_phrase(\"adjourned\") # => True\n",
    "is_cyclone_phrase(\"settled\") # => False\n",
    "is_cyclone_phrase(\"all alone at noon\") # => True\n",
    "is_cyclone_phrase(\"by myself at twelve pm\") # => False\n",
    "is_cyclone_phrase(\"acb\") # => True\n",
    "is_cyclone_phrase(\"\") # => True\n",
    "```\n",
    "\n",
    "Gere uma lista de todas as palavras Ciclone. Quantos estão lá? Como teste de sanidade, encontramos 769 palavras Ciclone distintas."
   ]
  },
  {
   "cell_type": "code",
   "execution_count": 15,
   "metadata": {},
   "outputs": [
    {
     "name": "stdout",
     "output_type": "stream",
     "text": [
      "True\n",
      "False\n",
      "True\n",
      "False\n",
      "True\n",
      "True\n",
      "Foram encontradas 1328 palavras ciclone.\n"
     ]
    }
   ],
   "source": [
    "def is_cyclone_word(word):\n",
    "    \"\"\"Return whether a word is a cyclone word.\"\"\"\n",
    "    word_reverse = word[-1:0:-1]\n",
    "    word_new = \"\"\n",
    "    for a, b in zip(word, word_reverse):\n",
    "        word_new += a + b\n",
    "    \n",
    "    word_new = word_new[:(len(word_new)//2)+1]\n",
    "    \n",
    "    for i in range(1, len(word_new)):\n",
    "        if word_new[i-1] > word_new[i]:\n",
    "            return False\n",
    "    \n",
    "    return True\n",
    "    \n",
    "def is_cyclone_phrase(phrase):\n",
    "    \"\"\"Return whether a phrase is composed only of cyclone words.\"\"\"\n",
    "    words = phrase.split()\n",
    "    \n",
    "    for wd in words:\n",
    "        if not is_cyclone_word(wd):\n",
    "            return False\n",
    "        \n",
    "    return True\n",
    "\n",
    "#Teste\n",
    "print(is_cyclone_phrase(\"adjourned\")) # => True\n",
    "print(is_cyclone_phrase(\"settled\")) # => False\n",
    "print(is_cyclone_phrase(\"all alone at noon\")) # => True\n",
    "print(is_cyclone_phrase(\"by myself at twelve pm\")) # => False\n",
    "print(is_cyclone_phrase(\"acb\")) # => True\n",
    "print(is_cyclone_phrase(\"\")) # => True\n",
    "\n",
    "#Encontrar todas as palavras\n",
    "all_cyclone_words = []\n",
    "\n",
    "for w in english:\n",
    "    if is_cyclone_word(w):\n",
    "        all_cyclone_words.append(w)\n",
    "        \n",
    "print(f\"Foram encontradas {len(all_cyclone_words)} palavras ciclone.\")"
   ]
  },
  {
   "cell_type": "markdown",
   "metadata": {},
   "source": [
    "### Palavras Triângulo\n",
    "O enésimo termo da seqüência de números Triângulo é dado por 1 + 2 + ... + n = n(n+1) / 2. Por exemplo, os primeiros dez números Triângulo são:\n",
    "\n",
    "`1, 3, 6, 10, 15, 21, 28, 36, 45, 55, ...`\n",
    "\n",
    "Convertendo cada letra em uma palavra para um número correspondente à sua posição alfabética (`A = 1`,` B = 2`, etc) e somando estes valores, formamos um valor da palavra. Por exemplo, o valor da palavra para SKY é 19 + 11 + 25 = 55 e 55 é um número Triângulo. Se o valor da palavra é um número Triângulo, então devemos chamar a palavra uma palavra Triângulo.\n",
    "\n",
    "Gere uma lista de todas as palavras Triângulo. Quantos estão lá? Como teste de sanidade, encontramos 16303 palavras Triângulo distintas.\n",
    "\n",
    "* Dica: você pode usar `ord (ch)` para obter o valor ASCII inteiro de um caractere. Você também pode usar um dicionário para conseguir isso! *"
   ]
  },
  {
   "cell_type": "code",
   "execution_count": 15,
   "metadata": {},
   "outputs": [
    {
     "name": "stdout",
     "output_type": "stream",
     "text": [
      "Foram encontradas 5409 palavras triangulo.\n"
     ]
    }
   ],
   "source": [
    "def get_list_triangle_number(seed):\n",
    "    \"\"\"Return triangle numbers to a seed.\"\"\"\n",
    "    numbers = [1, 3,]\n",
    "    for i in range(2, seed):\n",
    "        numbers.append(numbers[i-1]+(numbers[i-1]-numbers[i-2]+1))\n",
    "    \n",
    "    return numbers\n",
    "    \n",
    "def is_triangle_word(word):\n",
    "    \"\"\"Return whether a word is a triangle word.\"\"\"\n",
    "    char_to_number = [ord(x) for x in word]\n",
    "    return sum(char_to_number) in numbers_triangle\n",
    "\n",
    "all_triangle_words = []\n",
    "numbers_triangle = get_list_triangle_number(1000)    \n",
    "for w in english:\n",
    "    if is_triangle_word(w):\n",
    "        all_triangle_words.append(w)\n",
    "        \n",
    "print(f\"Foram encontradas {len(all_triangle_words)} palavras triangulo.\")"
   ]
  },
  {
   "cell_type": "markdown",
   "metadata": {},
   "source": [
    "## Acabou cedo?\n",
    "\n",
    "Leia o [Guia de Estilo do Python](https://www.python.org/dev/peps/pep-0008/), mantendo em mente o Zen do Python. Sinta-se livre para pular partes do guia de estilo que cobrem o material que ainda não tocamos nesta aula, mas é sempre bom começar com uma visão geral do bom estilo."
   ]
  },
  {
   "cell_type": "code",
   "execution_count": null,
   "metadata": {},
   "outputs": [],
   "source": []
  }
 ],
 "metadata": {
  "kernelspec": {
   "display_name": "Python 3",
   "language": "python",
   "name": "python3"
  },
  "language_info": {
   "codemirror_mode": {
    "name": "ipython",
    "version": 3
   },
   "file_extension": ".py",
   "mimetype": "text/x-python",
   "name": "python",
   "nbconvert_exporter": "python",
   "pygments_lexer": "ipython3",
   "version": "3.7.1"
  }
 },
 "nbformat": 4,
 "nbformat_minor": 2
}
